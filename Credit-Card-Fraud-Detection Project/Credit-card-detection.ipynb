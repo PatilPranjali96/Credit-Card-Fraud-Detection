{
 "cells": [
  {
   "cell_type": "code",
   "execution_count": 24,
   "id": "41483bd1",
   "metadata": {},
   "outputs": [],
   "source": [
    "#importing libraries\n",
    "\n",
    "import pandas as pd\n",
    "from sklearn.model_selection import train_test_split\n",
    "from sklearn.preprocessing import StandardScaler\n",
    "from sklearn.ensemble import RandomForestClassifier\n",
    "from sklearn.linear_model import LogisticRegression\n",
    "from sklearn.tree import DecisionTreeClassifier\n",
    "from sklearn.svm import SVC\n",
    "from sklearn.neighbors import KNeighborsClassifier\n",
    "from sklearn.metrics import accuracy_score, confusion_matrix, classification_report"
   ]
  },
  {
   "cell_type": "code",
   "execution_count": 25,
   "id": "e16a54aa",
   "metadata": {},
   "outputs": [],
   "source": [
    "#load Data Set\n",
    "data = pd.read_csv('cdd.csv')"
   ]
  },
  {
   "cell_type": "code",
   "execution_count": 30,
   "id": "0121baf4",
   "metadata": {},
   "outputs": [],
   "source": [
    "#Spliting the dataset\n",
    "y = data['Class']\n",
    "X = data.drop(columns=['Class'])\n",
    "X_train, X_test, y_train, y_test = train_test_split(X, y, test_size=0.2, random_state=42)"
   ]
  },
  {
   "cell_type": "code",
   "execution_count": 31,
   "id": "0cff13ba",
   "metadata": {},
   "outputs": [],
   "source": [
    "#Satandarize the features\n",
    "X = data.drop('Class', axis=1)\n",
    "y = data['Class']\n",
    "X_train, X_test, y_train, y_test = train_test_split(X, y, test_size=0.2, random_state=42)"
   ]
  },
  {
   "cell_type": "code",
   "execution_count": 32,
   "id": "bfc8f6d7",
   "metadata": {},
   "outputs": [
    {
     "name": "stdout",
     "output_type": "stream",
     "text": [
      "Random Forest Model:\n",
      "Accuracy: 0.97\n",
      "Confusion Matrix:\n",
      "[[18  1]\n",
      " [ 0 21]]\n",
      "Classification Report:\n",
      "              precision    recall  f1-score   support\n",
      "\n",
      "           0       1.00      0.95      0.97        19\n",
      "           1       0.95      1.00      0.98        21\n",
      "\n",
      "    accuracy                           0.97        40\n",
      "   macro avg       0.98      0.97      0.97        40\n",
      "weighted avg       0.98      0.97      0.97        40\n",
      "\n",
      "--------------------------------------------------\n"
     ]
    }
   ],
   "source": [
    "#Apply Rndom Forest Model\n",
    "random_forest_model = RandomForestClassifier(random_state=42)\n",
    "random_forest_model.fit(X_train, y_train)\n",
    "y_pred_rf = random_forest_model.predict(X_test)\n",
    "\n",
    "accuracy_rf = accuracy_score(y_test, y_pred_rf)\n",
    "conf_matrix_rf = confusion_matrix(y_test, y_pred_rf)\n",
    "classification_rep_rf = classification_report(y_test, y_pred_rf)\n",
    "print(\"Random Forest Model:\")\n",
    "print(f\"Accuracy: {accuracy_rf:.2f}\")\n",
    "print(f\"Confusion Matrix:\\n{conf_matrix_rf}\")\n",
    "print(f\"Classification Report:\\n{classification_rep_rf}\")\n",
    "print(\"-\" * 50)"
   ]
  },
  {
   "cell_type": "code",
   "execution_count": 33,
   "id": "e33c20d0",
   "metadata": {},
   "outputs": [
    {
     "name": "stdout",
     "output_type": "stream",
     "text": [
      "Logistic Regression Model:\n",
      "Accuracy: 0.93\n",
      "Confusion Matrix:\n",
      "[[17  2]\n",
      " [ 1 20]]\n",
      "Classification Report:\n",
      "              precision    recall  f1-score   support\n",
      "\n",
      "           0       0.94      0.89      0.92        19\n",
      "           1       0.91      0.95      0.93        21\n",
      "\n",
      "    accuracy                           0.93        40\n",
      "   macro avg       0.93      0.92      0.92        40\n",
      "weighted avg       0.93      0.93      0.92        40\n",
      "\n",
      "--------------------------------------------------\n"
     ]
    },
    {
     "name": "stderr",
     "output_type": "stream",
     "text": [
      "C:\\Users\\Computer Point\\anaconda3\\lib\\site-packages\\sklearn\\linear_model\\_logistic.py:763: ConvergenceWarning: lbfgs failed to converge (status=1):\n",
      "STOP: TOTAL NO. of ITERATIONS REACHED LIMIT.\n",
      "\n",
      "Increase the number of iterations (max_iter) or scale the data as shown in:\n",
      "    https://scikit-learn.org/stable/modules/preprocessing.html\n",
      "Please also refer to the documentation for alternative solver options:\n",
      "    https://scikit-learn.org/stable/modules/linear_model.html#logistic-regression\n",
      "  n_iter_i = _check_optimize_result(\n"
     ]
    }
   ],
   "source": [
    "#Apply Logistic Regression Model\n",
    "logistic_regression_model = LogisticRegression(random_state=42)\n",
    "logistic_regression_model.fit(X_train, y_train)\n",
    "y_pred_lr = logistic_regression_model.predict(X_test)\n",
    "\n",
    "accuracy_lr = accuracy_score(y_test, y_pred_lr)\n",
    "conf_matrix_lr = confusion_matrix(y_test, y_pred_lr)\n",
    "classification_rep_lr = classification_report(y_test, y_pred_lr)\n",
    "print(\"Logistic Regression Model:\")\n",
    "print(f\"Accuracy: {accuracy_lr:.2f}\")\n",
    "print(f\"Confusion Matrix:\\n{conf_matrix_lr}\")\n",
    "print(f\"Classification Report:\\n{classification_rep_lr}\")\n",
    "print(\"-\" * 50)"
   ]
  },
  {
   "cell_type": "code",
   "execution_count": 34,
   "id": "16a08b19",
   "metadata": {},
   "outputs": [
    {
     "name": "stdout",
     "output_type": "stream",
     "text": [
      "Support Vector Machine (SVM) Model:\n",
      "Accuracy: 0.93\n",
      "Confusion Matrix:\n",
      "[[18  1]\n",
      " [ 2 19]]\n",
      "Classification Report:\n",
      "              precision    recall  f1-score   support\n",
      "\n",
      "           0       0.90      0.95      0.92        19\n",
      "           1       0.95      0.90      0.93        21\n",
      "\n",
      "    accuracy                           0.93        40\n",
      "   macro avg       0.93      0.93      0.92        40\n",
      "weighted avg       0.93      0.93      0.93        40\n",
      "\n",
      "--------------------------------------------------\n"
     ]
    }
   ],
   "source": [
    "#Apply Support Vector Machine (SVM) Model\n",
    "svm_model = SVC(random_state=42)\n",
    "svm_model.fit(X_train, y_train)\n",
    "y_pred_svm = svm_model.predict(X_test)\n",
    "\n",
    "accuracy_svm = accuracy_score(y_test, y_pred_svm)\n",
    "conf_matrix_svm = confusion_matrix(y_test, y_pred_svm)\n",
    "classification_rep_svm = classification_report(y_test, y_pred_svm)\n",
    "print(\"Support Vector Machine (SVM) Model:\")\n",
    "print(f\"Accuracy: {accuracy_svm:.2f}\")\n",
    "print(f\"Confusion Matrix:\\n{conf_matrix_svm}\")\n",
    "print(f\"Classification Report:\\n{classification_rep_svm}\")\n",
    "print(\"-\" * 50)"
   ]
  },
  {
   "cell_type": "code",
   "execution_count": 35,
   "id": "f698f351",
   "metadata": {},
   "outputs": [
    {
     "name": "stdout",
     "output_type": "stream",
     "text": [
      "K-Nearest Neighbors (KNN) Model:\n",
      "Accuracy: 0.93\n",
      "Confusion Matrix:\n",
      "[[16  3]\n",
      " [ 0 21]]\n",
      "Classification Report:\n",
      "              precision    recall  f1-score   support\n",
      "\n",
      "           0       1.00      0.84      0.91        19\n",
      "           1       0.88      1.00      0.93        21\n",
      "\n",
      "    accuracy                           0.93        40\n",
      "   macro avg       0.94      0.92      0.92        40\n",
      "weighted avg       0.93      0.93      0.92        40\n",
      "\n"
     ]
    }
   ],
   "source": [
    "\n",
    "#Apply K-Nearest Neighbors (KNN) Model\n",
    "knn_model = KNeighborsClassifier()\n",
    "knn_model.fit(X_train, y_train)\n",
    "y_pred_knn = knn_model.predict(X_test)\n",
    "accuracy_knn = accuracy_score(y_test, y_pred_knn)\n",
    "conf_matrix_knn = confusion_matrix(y_test, y_pred_knn)\n",
    "classification_rep_knn = classification_report(y_test, y_pred_knn)\n",
    "print(\"K-Nearest Neighbors (KNN) Model:\")\n",
    "print(f\"Accuracy: {accuracy_knn:.2f}\")\n",
    "print(f\"Confusion Matrix:\\n{conf_matrix_knn}\")\n",
    "print(f\"Classification Report:\\n{classification_rep_knn}\")"
   ]
  },
  {
   "cell_type": "code",
   "execution_count": null,
   "id": "4d5d8aca",
   "metadata": {},
   "outputs": [
    {
     "name": "stdout",
     "output_type": "stream",
     "text": [
      "Please enter values for the features to predict the class:\n",
      "Enter value for Time: -13089095\n"
     ]
    }
   ],
   "source": [
    "#Taking input from the user\n",
    "\n",
    "print(\"Please enter values for the features to predict the class:\")\n",
    "feature_names = X.columns.tolist()\n",
    "user_input = []\n",
    "for feature in feature_names:\n",
    "    value = float(input(f\"Enter value for {feature}: \"))\n",
    "    user_input.append(value)"
   ]
  },
  {
   "cell_type": "code",
   "execution_count": null,
   "id": "4f56163e",
   "metadata": {},
   "outputs": [],
   "source": [
    "# Predicting using the trained model\n",
    "predicted_class = random_forest_model.predict([user_input])\n",
    "print(f\"The predicted class is: {predicted_class[0]} So it is Fraud .....\")"
   ]
  },
  {
   "cell_type": "code",
   "execution_count": null,
   "id": "d54a2e50",
   "metadata": {},
   "outputs": [],
   "source": []
  }
 ],
 "metadata": {
  "kernelspec": {
   "display_name": "Python 3 (ipykernel)",
   "language": "python",
   "name": "python3"
  },
  "language_info": {
   "codemirror_mode": {
    "name": "ipython",
    "version": 3
   },
   "file_extension": ".py",
   "mimetype": "text/x-python",
   "name": "python",
   "nbconvert_exporter": "python",
   "pygments_lexer": "ipython3",
   "version": "3.9.7"
  }
 },
 "nbformat": 4,
 "nbformat_minor": 5
}
